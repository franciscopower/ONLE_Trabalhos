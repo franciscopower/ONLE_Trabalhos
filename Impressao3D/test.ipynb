{
 "metadata": {
  "language_info": {
   "codemirror_mode": {
    "name": "ipython",
    "version": 3
   },
   "file_extension": ".py",
   "mimetype": "text/x-python",
   "name": "python",
   "nbconvert_exporter": "python",
   "pygments_lexer": "ipython3",
   "version": "2.7.17-final"
  },
  "orig_nbformat": 2,
  "kernelspec": {
   "name": "python271764bitb2cb82fcdf9b4618a23a29ed72bbd1c2",
   "display_name": "Python 2.7.17 64-bit"
  }
 },
 "nbformat": 4,
 "nbformat_minor": 2,
 "cells": [
  {
   "source": [
    "# Testing Transform functions"
   ],
   "cell_type": "markdown",
   "metadata": {}
  },
  {
   "cell_type": "code",
   "execution_count": null,
   "metadata": {},
   "outputs": [],
   "source": [
    "import numpy as np"
   ]
  },
  {
   "cell_type": "code",
   "execution_count": null,
   "metadata": {},
   "outputs": [],
   "source": [
    "square = np.array([\n",
    "    [-1, 1, 1, -1, -1],\n",
    "    [-1, -1, 1, 1, -1],\n",
    "])\n",
    "square = np.append(square, np.ones((1,square.shape[1])), 0)"
   ]
  },
  {
   "cell_type": "code",
   "execution_count": null,
   "metadata": {},
   "outputs": [],
   "source": [
    "import transform as tf\n",
    "\n",
    "T = tf.trans(1,1).dot(tf.rot(np.pi/4)).dot(tf.trans(0,2))\n",
    "new_square = np.matmul(T, square)\n",
    "\n",
    "print(T)"
   ]
  },
  {
   "cell_type": "code",
   "execution_count": null,
   "metadata": {},
   "outputs": [],
   "source": [
    "import matplotlib.pyplot as plt \n",
    "\n",
    "plt.figure()\n",
    "\n",
    "plt.plot(square[0,:], square[1,:], new_square[0,:], new_square[1,:])\n",
    "\n",
    "plt.grid(True)\n",
    "plt.gca().set_aspect('equal', adjustable='box')\n",
    "plt.show()\n"
   ]
  },
  {
   "cell_type": "code",
   "execution_count": null,
   "metadata": {},
   "outputs": [],
   "source": [
    "import matplotlib.pyplot as plt \n",
    "fig = plt.figure()\n",
    "ax = plt.axes(projection='3d')\n",
    "\n",
    "\n",
    "\n",
    "cube = np.array([\n",
    "    [-1, 1, 1, -1, -1, -1, 1, 1, -1, -1],\n",
    "    [-1, -1, 1, 1, -1, -1, -1, 1, 1, -1],\n",
    "    [0, 0, 0, 0, 0, 2, 2, 2, 2, 2]\n",
    "])\n",
    "\n",
    "ax.plot3D(cube[0,:], cube[1,:], cube[2,:])"
   ]
  },
  {
   "cell_type": "code",
   "execution_count": null,
   "metadata": {},
   "outputs": [],
   "source": [
    "s = 'hello everyone this is a string'\n",
    "\n",
    "l = s.split(' ')\n",
    "l"
   ]
  },
  {
   "cell_type": "code",
   "execution_count": null,
   "metadata": {},
   "outputs": [],
   "source": [
    "word = 'hello'\n",
    "print(word[1:])"
   ]
  },
  {
   "cell_type": "code",
   "execution_count": null,
   "metadata": {},
   "outputs": [],
   "source": [
    "a = np.array([\n",
    "    [1,2,3,4,5,11],\n",
    "    [6,7,8,9,10,12],\n",
    "    [1,1,1,2,2,2],\n",
    "])\n"
   ]
  },
  {
   "cell_type": "code",
   "execution_count": 68,
   "metadata": {},
   "outputs": [],
   "source": [
    "surprise = 'Happy birthday!!!'"
   ]
  }
 ]
}