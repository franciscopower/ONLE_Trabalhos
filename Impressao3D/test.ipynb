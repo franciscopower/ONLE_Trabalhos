{
 "metadata": {
  "language_info": {
   "codemirror_mode": {
    "name": "ipython",
    "version": 3
   },
   "file_extension": ".py",
   "mimetype": "text/x-python",
   "name": "python",
   "nbconvert_exporter": "python",
   "pygments_lexer": "ipython3",
   "version": "2.7.17-final"
  },
  "orig_nbformat": 2,
  "kernelspec": {
   "name": "python271764bitb2cb82fcdf9b4618a23a29ed72bbd1c2",
   "display_name": "Python 2.7.17 64-bit"
  }
 },
 "nbformat": 4,
 "nbformat_minor": 2,
 "cells": [
  {
   "source": [
    "# Testing Transform functions"
   ],
   "cell_type": "markdown",
   "metadata": {}
  },
  {
   "cell_type": "code",
   "execution_count": 4,
   "metadata": {},
   "outputs": [],
   "source": [
    "import numpy as np"
   ]
  },
  {
   "cell_type": "code",
   "execution_count": 10,
   "metadata": {},
   "outputs": [
    {
     "output_type": "stream",
     "name": "stdout",
     "text": [
      "[[-1.  1.  1. -1. -1.]\n [-1. -1.  1.  1. -1.]\n [ 1.  1.  1.  1.  1.]]\n"
     ]
    }
   ],
   "source": [
    "square = np.array([\n",
    "    [-1, 1, 1, -1, -1],\n",
    "    [-1, -1, 1, 1, -1],\n",
    "])\n",
    "square = np.append(square, np.ones((1,square.shape[1])),0)\n",
    "print(square)"
   ]
  },
  {
   "cell_type": "code",
   "execution_count": 5,
   "metadata": {},
   "outputs": [
    {
     "output_type": "stream",
     "name": "stdout",
     "text": [
      "[[ 0.70710678 -0.70710678 -0.41421356]\n [ 0.70710678  0.70710678  2.41421356]\n [ 0.          0.          1.        ]]\n"
     ]
    }
   ],
   "source": [
    "import transform as tf\n",
    "\n",
    "T = tf.trans(1,1).dot(tf.rot(np.pi/4)).dot(tf.trans(0,2))\n",
    "new_square = np.matmul(T, square)\n",
    "\n",
    "print(T)"
   ]
  },
  {
   "cell_type": "code",
   "execution_count": null,
   "metadata": {},
   "outputs": [],
   "source": [
    "import matplotlib.pyplot as plt \n",
    "\n",
    "plt.figure()\n",
    "\n",
    "plt.plot(square[0,:], square[1,:], new_square[0,:], new_square[1,:])\n",
    "\n",
    "plt.grid(True)\n",
    "plt.gca().set_aspect('equal', adjustable='box')\n",
    "plt.show()\n"
   ]
  },
  {
   "cell_type": "code",
   "execution_count": null,
   "metadata": {},
   "outputs": [],
   "source": [
    "import matplotlib.pyplot as plt \n",
    "fig = plt.figure()\n",
    "ax = plt.axes(projection='3d')\n",
    "\n",
    "\n",
    "\n",
    "cube = np.array([\n",
    "    [-1, 1, 1, -1, -1, -1, 1, 1, -1, -1],\n",
    "    [-1, -1, 1, 1, -1, -1, -1, 1, 1, -1],\n",
    "    [0, 0, 0, 0, 0, 2, 2, 2, 2, 2]\n",
    "])\n",
    "\n",
    "ax.plot3D(cube[0,:], cube[1,:], cube[2,:])"
   ]
  },
  {
   "cell_type": "code",
   "execution_count": null,
   "metadata": {},
   "outputs": [],
   "source": [
    "s = 'hello everyone this is a string'\n",
    "\n",
    "l = s.split(' ')\n",
    "l"
   ]
  },
  {
   "cell_type": "code",
   "execution_count": null,
   "metadata": {},
   "outputs": [],
   "source": [
    "word = 'hello'\n",
    "print(word[1:])"
   ]
  },
  {
   "cell_type": "code",
   "execution_count": null,
   "metadata": {},
   "outputs": [],
   "source": [
    "a = np.array([\n",
    "    [1,2,3,4,5,11],\n",
    "    [6,7,8,9,10,12],\n",
    "    [1,1,1,2,2,2],\n",
    "])\n"
   ]
  },
  {
   "cell_type": "code",
   "execution_count": 16,
   "metadata": {},
   "outputs": [
    {
     "output_type": "stream",
     "name": "stdout",
     "text": [
      "2.0\n"
     ]
    }
   ],
   "source": [
    "import numpy as np\n",
    "print(np.sqrt(4))"
   ]
  },
  {
   "cell_type": "code",
   "execution_count": 2,
   "metadata": {},
   "outputs": [
    {
     "output_type": "stream",
     "name": "stdout",
     "text": [
      "2\n"
     ]
    }
   ],
   "source": [
    "l = [1,2,3,4,5]\n",
    "print(l.index(3))"
   ]
  },
  {
   "cell_type": "code",
   "execution_count": 15,
   "metadata": {},
   "outputs": [
    {
     "output_type": "stream",
     "name": "stdout",
     "text": [
      "[[11.  12.  10.2 14. ]\n [20.5 26.  27.  28. ]]\n"
     ]
    }
   ],
   "source": [
    "a = np.array([\n",
    "    [1,2,0.2,4],\n",
    "    [0.5,6,7,8],\n",
    "])\n",
    "b = np.array([\n",
    "    [10,10,10,10],\n",
    "    [20,20,20,20],\n",
    "])\n",
    "print(a+b)"
   ]
  },
  {
   "source": [],
   "cell_type": "markdown",
   "metadata": {}
  },
  {
   "cell_type": "code",
   "execution_count": 2,
   "metadata": {},
   "outputs": [
    {
     "output_type": "stream",
     "name": "stdout",
     "text": [
      "3.14159265359\n"
     ]
    }
   ],
   "source": [
    "print(np.pi)"
   ]
  },
  {
   "cell_type": "code",
   "execution_count": 11,
   "metadata": {},
   "outputs": [
    {
     "output_type": "stream",
     "name": "stdout",
     "text": [
      "[0, 1]\n"
     ]
    }
   ],
   "source": [
    "a = [0,1,2,3]\n",
    "print(a[0:2])"
   ]
  },
  {
   "cell_type": "code",
   "execution_count": 3,
   "metadata": {},
   "outputs": [
    {
     "output_type": "execute_result",
     "data": {
      "text/plain": [
       "array([  2.        ,  12.88888889,  23.77777778,  34.66666667,\n",
       "        45.55555556,  56.44444444,  67.33333333,  78.22222222,\n",
       "        89.11111111, 100.        ])"
      ]
     },
     "metadata": {},
     "execution_count": 3
    }
   ],
   "source": [
    "a = np.linspace(2,100,10)\n",
    "a"
   ]
  },
  {
   "cell_type": "code",
   "execution_count": 22,
   "metadata": {},
   "outputs": [
    {
     "output_type": "stream",
     "name": "stdout",
     "text": [
      "[[array([1, 2, 3]), array([4, 5, 6]), array([1, 2, 3])], [array([1, 2, 3]), array([4, 5, 6]), array([1, 2, 3])]]\n[[array([1, 2, 3]), array([4, 5, 6]), array([1, 2, 3])], [array([1, 2, 3]), array([4, 5, 6]), array([  1, 300,   3])]]\n"
     ]
    }
   ],
   "source": [
    "a = [[np.array([1,2,3]), np.array([4,5,6]), np.array([1,2,3])], [np.array([1,2,3]), np.array([4,5,6]), np.array([1,2,3])]]\n",
    "\n",
    "b = []\n",
    "c = []\n",
    "\n",
    "for l in a:\n",
    "    for item in l:\n",
    "        c.append(np.copy(item))\n",
    "    b.append(c)\n",
    "    c = []\n",
    "\n",
    "b[1][2][1]=300\n",
    "print(a)\n",
    "print(b)"
   ]
  },
  {
   "cell_type": "code",
   "execution_count": 15,
   "metadata": {},
   "outputs": [
    {
     "output_type": "stream",
     "name": "stdout",
     "text": [
      "[0, 1, 2, 3, 4, 5, 6, 7, 8, 9]\n"
     ]
    }
   ],
   "source": [
    "a = []\n",
    "for i in range(10):\n",
    "    a.append(i)\n",
    "print(a)"
   ]
  },
  {
   "cell_type": "code",
   "execution_count": null,
   "metadata": {},
   "outputs": [],
   "source": []
  }
 ]
}